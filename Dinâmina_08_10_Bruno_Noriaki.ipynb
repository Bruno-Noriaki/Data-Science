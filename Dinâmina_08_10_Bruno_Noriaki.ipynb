{
  "nbformat": 4,
  "nbformat_minor": 0,
  "metadata": {
    "colab": {
      "provenance": [],
      "authorship_tag": "ABX9TyNO3+Df4sU/SpRvJuZrYzpf",
      "include_colab_link": true
    },
    "kernelspec": {
      "name": "python3",
      "display_name": "Python 3"
    },
    "language_info": {
      "name": "python"
    }
  },
  "cells": [
    {
      "cell_type": "markdown",
      "metadata": {
        "id": "view-in-github",
        "colab_type": "text"
      },
      "source": [
        "<a href=\"https://colab.research.google.com/github/Bruno-Noriaki/Data-Science/blob/main/Din%C3%A2mina_08_10_Bruno_Noriaki.ipynb\" target=\"_parent\"><img src=\"https://colab.research.google.com/assets/colab-badge.svg\" alt=\"Open In Colab\"/></a>"
      ]
    },
    {
      "cell_type": "markdown",
      "source": [
        "Bruno Noriaki de Moura Tsuha - #28689"
      ],
      "metadata": {
        "id": "eGSrlUOriljy"
      }
    },
    {
      "cell_type": "markdown",
      "source": [
        "Questão **1**"
      ],
      "metadata": {
        "id": "YZ6wh-f-kFg1"
      }
    },
    {
      "cell_type": "code",
      "source": [
        "#1 int\n",
        "#2 float\n",
        "#3 float\n",
        "#4 string\n",
        "#5 float\n",
        "#6 float\n",
        "#7 int\n",
        "#8 int\n",
        "#9 int"
      ],
      "metadata": {
        "id": "w0il2eLegYRy"
      },
      "execution_count": null,
      "outputs": []
    },
    {
      "cell_type": "code",
      "source": [
        "#10\n",
        "a = int(input('Digite um número inteiro: '))\n",
        "print(f'O tipo do seu dado é {type(a)}')"
      ],
      "metadata": {
        "colab": {
          "base_uri": "https://localhost:8080/"
        },
        "id": "KV7UIvckjXKx",
        "outputId": "181149e4-3375-4b8f-e249-49331996aad1"
      },
      "execution_count": null,
      "outputs": [
        {
          "output_type": "stream",
          "name": "stdout",
          "text": [
            "Digite um número inteiro: 10\n",
            "O tipo do seu dado é <class 'int'>\n"
          ]
        }
      ]
    },
    {
      "cell_type": "code",
      "source": [
        "#11 \n",
        "b = float(input('Digite um número com decimal: '))\n",
        "print(f'O tipo do seu dado é {type(b)}')"
      ],
      "metadata": {
        "colab": {
          "base_uri": "https://localhost:8080/"
        },
        "id": "9ltUM1NyjZo6",
        "outputId": "30f66553-78c1-422c-b0cb-e23bda40f47e"
      },
      "execution_count": null,
      "outputs": [
        {
          "output_type": "stream",
          "name": "stdout",
          "text": [
            "Digite um número com decimal: 10\n",
            "O tipo do seu dado é <class 'float'>\n"
          ]
        }
      ]
    },
    {
      "cell_type": "code",
      "source": [
        "#12\n",
        "c = input('Digite um texto: ')\n",
        "print(f'O tipo do seu dado é {type(c)}')"
      ],
      "metadata": {
        "colab": {
          "base_uri": "https://localhost:8080/"
        },
        "id": "vG2xxcSgj6n8",
        "outputId": "9c41a988-ba8e-4bc5-8a96-60b165320d46"
      },
      "execution_count": null,
      "outputs": [
        {
          "output_type": "stream",
          "name": "stdout",
          "text": [
            "Digite um texto: casa\n",
            "O tipo do seu dado é <class 'str'>\n"
          ]
        }
      ]
    },
    {
      "cell_type": "code",
      "source": [
        "#13\n",
        "d = input('Digite o que lhe vier à cabeça ')\n",
        "print(f'O tipo do seu dado é {type(d)}')"
      ],
      "metadata": {
        "colab": {
          "base_uri": "https://localhost:8080/"
        },
        "id": "ahU5VPQlkW67",
        "outputId": "4b502a36-53ea-4fc6-e48f-b7a87412368e"
      },
      "execution_count": null,
      "outputs": [
        {
          "output_type": "stream",
          "name": "stdout",
          "text": [
            "Digite o que lhe vier à cabeça casinha 12\n",
            "O tipo do seu dado é <class 'str'>\n"
          ]
        }
      ]
    },
    {
      "cell_type": "markdown",
      "source": [
        "Questão **2**"
      ],
      "metadata": {
        "id": "yW0Yg_o3kqR_"
      }
    },
    {
      "cell_type": "code",
      "source": [
        "def tracejar(x):\n",
        "  print('-'*50)\n",
        "  print(f'{x:^50}')\n",
        "  print('-'*50)\n",
        "\n",
        "tracejar('DS06 - DNC')"
      ],
      "metadata": {
        "colab": {
          "base_uri": "https://localhost:8080/"
        },
        "id": "WhV9SWLUkj5Y",
        "outputId": "e99d584d-438f-4732-e6a3-83cdce536b0d"
      },
      "execution_count": null,
      "outputs": [
        {
          "output_type": "stream",
          "name": "stdout",
          "text": [
            "--------------------------------------------------\n",
            "                    DS06 - DNC                    \n",
            "--------------------------------------------------\n"
          ]
        }
      ]
    },
    {
      "cell_type": "markdown",
      "source": [
        "Questão 3 "
      ],
      "metadata": {
        "id": "T88_MuNrlep5"
      }
    },
    {
      "cell_type": "code",
      "source": [
        "salario = 10000.00\n",
        "contas = {'BMW' : 2500.45,\n",
        "'Apartamento' : 3500.50,\n",
        "'Veterinário' : 500.00,\n",
        "'Luz' : 100.80,\n",
        "'Água' : 80.35,\n",
        "'Condomínio' : 800.44,\n",
        "'Gás' : 150.65}\n",
        "total_gastos = 0\n",
        "\n",
        "print('*'*103)\n",
        "print(f'Seu salário de cientista de dados júnior é de R${salario:.2f} e seus gastos mensais estão dispostos abaixo:')\n",
        "\n",
        "for conta, valor in contas.items():\n",
        "  print(f'{conta} = R${valor}')\n",
        "  total_gastos += valor\n",
        "\n",
        "print('*'*103)\n",
        "print(f'O valor disponível para a poupança é de R${salario-total_gastos:.2f}')"
      ],
      "metadata": {
        "colab": {
          "base_uri": "https://localhost:8080/"
        },
        "id": "nco_6DkblQhg",
        "outputId": "7952716f-3924-4649-d493-c8c0a49deb7a"
      },
      "execution_count": null,
      "outputs": [
        {
          "output_type": "stream",
          "name": "stdout",
          "text": [
            "*******************************************************************************************************\n",
            "Seu salário de cientista de dados júnior é de R$10000.00 e seus gastos mensais estão dispostos abaixo:\n",
            "BMW = R$2500.45\n",
            "Apartamento = R$3500.5\n",
            "Veterinário = R$500.0\n",
            "Luz = R$100.8\n",
            "Água = R$80.35\n",
            "Condomínio = R$800.44\n",
            "Gás = R$150.65\n",
            "*******************************************************************************************************\n",
            "O valor disponível para a poupança é de R$2366.81\n"
          ]
        }
      ]
    },
    {
      "cell_type": "markdown",
      "source": [
        "Questão **4** "
      ],
      "metadata": {
        "id": "T1SZ-y7lovBs"
      }
    },
    {
      "cell_type": "code",
      "source": [
        "teste = 0\n",
        "Curso = [['Dados',20000.00],\n",
        "['Projetos',15000.00],\n",
        "['Marketing', 13000.00], \n",
        "['Produto',18000.00],\n",
        "['Tecnologia',19000.00]]\n",
        "\n",
        "while True:\n",
        "  print(f'Nossos Cursos disponíveis são: ')\n",
        "  print('-'*50)\n",
        "  for num, id in enumerate(Curso):\n",
        "    print(f'[{num}] O Curso de {id[0]} tem o valor de R${id[1]:.2f}')\n",
        "  teste = int(input('Selecione o número do curso que você deseja escolher: '))\n",
        "  print('-'*50)\n",
        "\n",
        "  if teste in range(0,5):\n",
        "    print('-'*50)\n",
        "    print(f'Parabéns, você se inscreveu no curso de {Curso[teste][0]} que começa no mês que vem')\n",
        "    break\n",
        "  else:\n",
        "    print('-'*50)\n",
        "    print('O valor digitado não é válido: ')"
      ],
      "metadata": {
        "colab": {
          "base_uri": "https://localhost:8080/"
        },
        "id": "sMSIyxlomleo",
        "outputId": "42271718-b1fd-4b2f-f9b1-547e0fb77680"
      },
      "execution_count": null,
      "outputs": [
        {
          "output_type": "stream",
          "name": "stdout",
          "text": [
            "Nossos Cursos disponíveis são: \n",
            "--------------------------------------------------\n",
            "[0] O Curso de Dados tem o valor de R$20000.00\n",
            "[1] O Curso de Projetos tem o valor de R$15000.00\n",
            "[2] O Curso de Marketing tem o valor de R$13000.00\n",
            "[3] O Curso de Produto tem o valor de R$18000.00\n",
            "[4] O Curso de Tecnologia tem o valor de R$19000.00\n",
            "Selecione o número do curso que você deseja escolher: 2\n",
            "--------------------------------------------------\n",
            "--------------------------------------------------\n",
            "Parabéns, você se inscreveu no curso de Marketing que começa no mês que vem\n"
          ]
        }
      ]
    },
    {
      "cell_type": "markdown",
      "source": [
        "Questão **5** "
      ],
      "metadata": {
        "id": "n4WlsW5kuIh_"
      }
    },
    {
      "cell_type": "code",
      "source": [
        "Curso = [['Dados',20000.00],\n",
        "['Projetos',15000.00],\n",
        "['Marketing', 13000.00], \n",
        "['Produto',18000.00],\n",
        "['Tecnologia',19000.00]]\n",
        "meta = 2000000\n",
        "Receita = 0\n",
        "\n",
        "for v in Curso:\n",
        "  vendas = int(input(f'Quantas vendas o curso {v[0]} teve no mês? '))\n",
        "  Receita += vendas*v[1]\n",
        "\n",
        "print('-'*50)\n",
        "if Receita > meta:\n",
        "  print(f'Parabéns, A DNC bateu a meta do mês e a receita do mês foi de R${Receita:.2f}')\n",
        "else:\n",
        "  print('Esse mês não conseguimos bater a meta, mas mês que vem iremos mais fortes')\n",
        "\n",
        "print(f'Além disso, a receita média por curso foi de R${Receita/5:.2f}')"
      ],
      "metadata": {
        "colab": {
          "base_uri": "https://localhost:8080/"
        },
        "id": "N_B5WMixrkND",
        "outputId": "f7e25316-589c-475c-9f77-6bde979ee64f"
      },
      "execution_count": null,
      "outputs": [
        {
          "output_type": "stream",
          "name": "stdout",
          "text": [
            "Quantas vendas o curso Dados teve no mês? 56\n",
            "Quantas vendas o curso Projetos teve no mês? 12\n",
            "Quantas vendas o curso Marketing teve no mês? 4\n",
            "Quantas vendas o curso Produto teve no mês? 67\n",
            "Quantas vendas o curso Tecnologia teve no mês? 2\n",
            "--------------------------------------------------\n",
            "Parabéns, A DNC bateu a meta do mês e a receita do mês foi de R$2596000.00\n",
            "Além disso, a receita média por curso foi de R$519200.00\n"
          ]
        }
      ]
    },
    {
      "cell_type": "markdown",
      "source": [
        "Questão **6** \n"
      ],
      "metadata": {
        "id": "fCa_NZO5xPbu"
      }
    },
    {
      "cell_type": "code",
      "source": [
        "n = int(input('Quantos termos você deseja somar: '))\n",
        "soma = 0\n",
        "\n",
        "for i in range(1,n+1):\n",
        "  soma += i\n",
        "\n",
        "print(f'O somatório foi igual a {soma}')"
      ],
      "metadata": {
        "colab": {
          "base_uri": "https://localhost:8080/"
        },
        "id": "9zQha5YGwfSz",
        "outputId": "6ca468de-264f-4cad-9d6e-135996e04e28"
      },
      "execution_count": null,
      "outputs": [
        {
          "output_type": "stream",
          "name": "stdout",
          "text": [
            "Quantos termos você deseja somar: 3\n",
            "O somatório foi igual a 6\n"
          ]
        }
      ]
    },
    {
      "cell_type": "markdown",
      "source": [
        "Questão **7**"
      ],
      "metadata": {
        "id": "bcFwVX6QzAge"
      }
    },
    {
      "cell_type": "code",
      "source": [
        "while True:\n",
        "  a = input('Qual ação deseja tomar? ')\n",
        "  if a in 'pP':\n",
        "    print('-'*50)\n",
        "    print(f'{\"Reproduzindo próxima música\":^50}')\n",
        "    print('-'*50)\n",
        "  else:\n",
        "    print('-'*50)\n",
        "    print(f'{\"Fechando o aplicativo\":^50}')\n",
        "    print(f'{\"Até mais...\":^50}')\n",
        "    print('-'*50)\n",
        "    break"
      ],
      "metadata": {
        "colab": {
          "base_uri": "https://localhost:8080/"
        },
        "id": "PYLYWe24ykiU",
        "outputId": "acfe3079-9eaf-4ad2-c60f-e0f35d627a5f"
      },
      "execution_count": null,
      "outputs": [
        {
          "output_type": "stream",
          "name": "stdout",
          "text": [
            "Qual ação deseja tomar? k\n",
            "--------------------------------------------------\n",
            "              Fechando o aplicativo               \n",
            "                   Até mais...                    \n",
            "--------------------------------------------------\n"
          ]
        }
      ]
    },
    {
      "cell_type": "markdown",
      "source": [
        "Questão **8**"
      ],
      "metadata": {
        "id": "X6XBlpGY2MeN"
      }
    },
    {
      "cell_type": "code",
      "source": [
        "nomes = []\n",
        "for i in range(1,4):\n",
        "  nomes.append(input(f'Digite o nome do {i}º dos seus colegas: '))\n",
        "\n",
        "for n in nomes:\n",
        "  print('-'*50)\n",
        "  print(f'Parabéns por toda ajuda no projeto, {n}')\n",
        "  print('-'*50)"
      ],
      "metadata": {
        "colab": {
          "base_uri": "https://localhost:8080/"
        },
        "id": "g3O0Fc-YzqKb",
        "outputId": "65f4a88a-d583-425d-8df4-493bbac91ee6"
      },
      "execution_count": null,
      "outputs": [
        {
          "output_type": "stream",
          "name": "stdout",
          "text": [
            "Digite o nome do 1º dos seus colegas: a\n",
            "Digite o nome do 2º dos seus colegas: \n",
            "Digite o nome do 3º dos seus colegas: c\n",
            "--------------------------------------------------\n",
            "Parabéns por toda ajuda no projeto, a\n",
            "--------------------------------------------------\n",
            "--------------------------------------------------\n",
            "Parabéns por toda ajuda no projeto, \n",
            "--------------------------------------------------\n",
            "--------------------------------------------------\n",
            "Parabéns por toda ajuda no projeto, c\n",
            "--------------------------------------------------\n"
          ]
        }
      ]
    },
    {
      "cell_type": "markdown",
      "source": [
        "Questão **9**"
      ],
      "metadata": {
        "id": "zn4_QleY2J6e"
      }
    },
    {
      "cell_type": "code",
      "source": [
        "notas = [2.00,5.00,10.00,20.00,50.00,100.00]\n",
        "Soma = 0\n",
        "R = 's'\n",
        "\n",
        "while R in 'Ss':\n",
        "  print('-'*50)\n",
        "  valor = float(input('''Qual o valor da nota deseja adicionar?\n",
        "R$2,00\n",
        "R$5,00\n",
        "R$10,00\n",
        "R$20,00\n",
        "R$50,00\n",
        "R$100,00\n",
        "'''))\n",
        "  \n",
        "  if valor in notas:\n",
        "    quant = int(input('Quantas notas dessa você tem? '))\n",
        "    Soma += quant*valor\n",
        "  else:\n",
        "    print('O valor de nota não é válido, tente novamente') \n",
        "    \n",
        "  print('-'*50)\n",
        "  R = input('Você deseja adicionar mais uma nota (S/N)?')\n",
        "\n",
        "print('-'*50)\n",
        "print(f'Você tem R${Soma:.2f}')"
      ],
      "metadata": {
        "colab": {
          "base_uri": "https://localhost:8080/"
        },
        "id": "m5Onak-o1nt0",
        "outputId": "b9ed45c5-0ce2-47c1-c656-41c592ad4caa"
      },
      "execution_count": null,
      "outputs": [
        {
          "output_type": "stream",
          "name": "stdout",
          "text": [
            "--------------------------------------------------\n",
            "Qual o valor da nota deseja adicionar?\n",
            "R$2,00\n",
            "R$5,00\n",
            "R$10,00\n",
            "R$20,00\n",
            "R$50,00\n",
            "R$100,00\n",
            "10\n",
            "Quantas notas dessa você tem? 3\n",
            "--------------------------------------------------\n",
            "Você deseja adicionar mais uma nota (S/N)?n\n",
            "--------------------------------------------------\n",
            "Você tem R$30.00\n"
          ]
        }
      ]
    },
    {
      "cell_type": "markdown",
      "source": [
        "Questão **10**"
      ],
      "metadata": {
        "id": "G4Brq8t75pKP"
      }
    },
    {
      "cell_type": "code",
      "source": [
        "inf = []\n",
        "for i in range(0,5):\n",
        "  print('-'*50)\n",
        "  nome = input(f'Digite o nome do {i+1}º usuário: ')\n",
        "  cidade= input(f'Digite a cidade do {i+1}º usuário: ')\n",
        "  RID = input(f'Digite a RID da {i+1}º usuário: ')\n",
        "  Cargo = input(f'Digite o Cargo da {i+1}º usuário: ')\n",
        "  pes = {'Nome':nome, 'Cidade':cidade, 'RID':cidade,'Cargo':Cargo}\n",
        "  inf.append(pes)\n",
        "  print('-'*50)\n",
        "  \n",
        "for num,pes in enumerate(inf):\n",
        "  print('-'*50)\n",
        "  print(f'Dados do {num+1}º integrante')\n",
        "  for k,v in pes.items():\n",
        "    print(f'{k}:{v}')\n",
        "  print('-'*50)"
      ],
      "metadata": {
        "colab": {
          "base_uri": "https://localhost:8080/"
        },
        "id": "koNh7DVK5Ft-",
        "outputId": "c23146c7-6e07-4a9f-ad20-61b376441473"
      },
      "execution_count": null,
      "outputs": [
        {
          "output_type": "stream",
          "name": "stdout",
          "text": [
            "--------------------------------------------------\n",
            "Digite o nome do 1º usuário: aa\n",
            "Digite a cidade do 1º usuário: aa\n",
            "Digite a RID da 1º usuário: aa\n",
            "Digite o Cargo da 1º usuário: aa\n",
            "--------------------------------------------------\n",
            "--------------------------------------------------\n",
            "Digite o nome do 2º usuário: bb\n",
            "Digite a cidade do 2º usuário: bb\n",
            "Digite a RID da 2º usuário: bb\n",
            "Digite o Cargo da 2º usuário: bb\n",
            "--------------------------------------------------\n",
            "--------------------------------------------------\n",
            "Digite o nome do 3º usuário: cc\n",
            "Digite a cidade do 3º usuário: cc\n",
            "Digite a RID da 3º usuário: cc\n",
            "Digite o Cargo da 3º usuário: cc\n",
            "--------------------------------------------------\n",
            "--------------------------------------------------\n",
            "Digite o nome do 4º usuário: dd\n",
            "Digite a cidade do 4º usuário: dd\n",
            "Digite a RID da 4º usuário: dd\n",
            "Digite o Cargo da 4º usuário: dd\n",
            "--------------------------------------------------\n",
            "--------------------------------------------------\n",
            "Digite o nome do 5º usuário: ee\n",
            "Digite a cidade do 5º usuário: ee\n",
            "Digite a RID da 5º usuário: ee\n",
            "Digite o Cargo da 5º usuário: ee\n",
            "--------------------------------------------------\n",
            "--------------------------------------------------\n",
            "Dados do 1º integrante\n",
            "Nome:aa\n",
            "Cidade:aa\n",
            "RID:aa\n",
            "Cargo:aa\n",
            "--------------------------------------------------\n",
            "--------------------------------------------------\n",
            "Dados do 2º integrante\n",
            "Nome:bb\n",
            "Cidade:bb\n",
            "RID:bb\n",
            "Cargo:bb\n",
            "--------------------------------------------------\n",
            "--------------------------------------------------\n",
            "Dados do 3º integrante\n",
            "Nome:cc\n",
            "Cidade:cc\n",
            "RID:cc\n",
            "Cargo:cc\n",
            "--------------------------------------------------\n",
            "--------------------------------------------------\n",
            "Dados do 4º integrante\n",
            "Nome:dd\n",
            "Cidade:dd\n",
            "RID:dd\n",
            "Cargo:dd\n",
            "--------------------------------------------------\n",
            "--------------------------------------------------\n",
            "Dados do 5º integrante\n",
            "Nome:ee\n",
            "Cidade:ee\n",
            "RID:ee\n",
            "Cargo:ee\n",
            "--------------------------------------------------\n"
          ]
        }
      ]
    },
    {
      "cell_type": "code",
      "source": [],
      "metadata": {
        "id": "CigLi1_b9VeV"
      },
      "execution_count": null,
      "outputs": []
    },
    {
      "cell_type": "markdown",
      "source": [
        "Questão **11**"
      ],
      "metadata": {
        "id": "7FPIdr5I7pf-"
      }
    },
    {
      "cell_type": "code",
      "source": [
        "def soma(*num):\n",
        "  soma = 0\n",
        "  for i in num:\n",
        "    soma +=i\n",
        "  return soma"
      ],
      "metadata": {
        "id": "M1aRNoLJ7bB2"
      },
      "execution_count": null,
      "outputs": []
    },
    {
      "cell_type": "code",
      "source": [],
      "metadata": {
        "id": "nPIp9W-z72q2"
      },
      "execution_count": null,
      "outputs": []
    }
  ]
}